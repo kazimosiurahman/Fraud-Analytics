{
 "cells": [
  {
   "cell_type": "code",
   "execution_count": 10,
   "metadata": {},
   "outputs": [],
   "source": [
    "import numpy as np\n",
    "import random\n",
    "from random import choices\n",
    "import matplotlib.pyplot as plt\n",
    "from collections import Counter\n",
    "import pandas as pd"
   ]
  },
  {
   "cell_type": "code",
   "execution_count": 2,
   "metadata": {},
   "outputs": [],
   "source": [
    "#generating a million numbers by randomly selecting numbers from 1 to 10000\n",
    "list_of_numbers = []\n",
    "for i in range(1000000):\n",
    "    list_of_numbers.append(random.randint(1,10000))"
   ]
  },
  {
   "cell_type": "code",
   "execution_count": 3,
   "metadata": {},
   "outputs": [
    {
     "data": {
      "text/plain": [
       "[5443, 841, 5562, 6772, 708, 5216, 3902, 4609, 493, 4328, 1360, 1674, 5667]"
      ]
     },
     "execution_count": 3,
     "metadata": {},
     "output_type": "execute_result"
    }
   ],
   "source": [
    "list_of_numbers[:13]"
   ]
  },
  {
   "cell_type": "code",
   "execution_count": 4,
   "metadata": {},
   "outputs": [],
   "source": [
    "#extracting the leading numbers from all the generated million numbers\n",
    "def get_lead_number(list_of_numbers):\n",
    "    return [int(num[0]) for num in [str(i) for i in list_of_numbers]]"
   ]
  },
  {
   "cell_type": "code",
   "execution_count": 5,
   "metadata": {},
   "outputs": [
    {
     "data": {
      "text/plain": [
       "[5, 8, 5, 6, 7, 5, 3, 4, 4, 4, 1, 1, 5]"
      ]
     },
     "execution_count": 5,
     "metadata": {},
     "output_type": "execute_result"
    }
   ],
   "source": [
    "leading_numbers = get_lead_number(list_of_numbers)\n",
    "leading_numbers[:13]"
   ]
  },
  {
   "cell_type": "code",
   "execution_count": 11,
   "metadata": {},
   "outputs": [
    {
     "data": {
      "text/plain": [
       "Text(0.5, 0, 'Leading Integers')"
      ]
     },
     "execution_count": 11,
     "metadata": {},
     "output_type": "execute_result"
    },
    {
     "data": {
      "image/png": "[encoded data removed]",
      "text/plain": [
       "<Figure size 432x288 with 1 Axes>"
      ]
     },
     "metadata": {
      "needs_background": "light"
     },
     "output_type": "display_data"
    }
   ],
   "source": [
    "#it shows uniform distibution of the numbers as python random method generates numbers with equal distributions from different bins.\n",
    "#Thus to prove benford's law we need to generate numbers with benford weights\n",
    "\n",
    "pd.DataFrame(leading_numbers)[0].value_counts().plot(kind='bar')\n",
    "plt.ylabel(\"Frequency of Numbers\")\n",
    "plt.xlabel(\"Leading Integers\")"
   ]
  },
  {
   "cell_type": "code",
   "execution_count": 12,
   "metadata": {},
   "outputs": [],
   "source": [
    "#python random generates numbers with equal distribution however benford law suggests that numbers have weightage and reduces from 1 to 9.\n",
    "#thus we need to create a distribution of our own with weights according to benford suggested\n",
    "from random import choices\n",
    "import numpy as np\n",
    "population = list(np.arange(1,10))\n",
    "weights = [0.301, 0.176, 0.124, 0.096, 0.079, 0.066, 0.057, 0.054, 0.047]\n",
    "\n",
    "first_digits = choices(population,weights,k=10**6)"
   ]
  },
  {
   "cell_type": "code",
   "execution_count": 13,
   "metadata": {},
   "outputs": [
    {
     "data": {
      "text/plain": [
       "Text(0.5, 1.0, \"Benford's Distribution\")"
      ]
     },
     "execution_count": 13,
     "metadata": {},
     "output_type": "execute_result"
    },
    {
     "data": {
      "image/png": "[encoded data removed]",
      "text/plain": [
       "<Figure size 432x288 with 1 Axes>"
      ]
     },
     "metadata": {
      "needs_background": "light"
     },
     "output_type": "display_data"
    }
   ],
   "source": [
    "pd.DataFrame(first_digits)[0].value_counts().plot(kind='bar')\n",
    "plt.ylabel(\"Lead Digit counts(Frequency of numbers)\")\n",
    "plt.xlabel(\"Leading Integers\")\n",
    "plt.title(\"Benford's Distribution\")"
   ]
  },
  {
   "cell_type": "code",
   "execution_count": null,
   "metadata": {},
   "outputs": [],
   "source": []
  }
 ],
 "metadata": {
  "kernelspec": {
   "display_name": "Python 3",
   "language": "python",
   "name": "python3"
  },
  "language_info": {
   "codemirror_mode": {
    "name": "ipython",
    "version": 3
   },
   "file_extension": ".py",
   "mimetype": "text/x-python",
   "name": "python",
   "nbconvert_exporter": "python",
   "pygments_lexer": "ipython3",
   "version": "3.6.8"
  }
 },
 "nbformat": 4,
 "nbformat_minor": 4
}
